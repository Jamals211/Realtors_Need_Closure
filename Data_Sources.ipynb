{
 "cells": [
  {
   "cell_type": "code",
   "execution_count": null,
   "metadata": {},
   "outputs": [],
   "source": [
    "# Crime data for Chicago\n",
    "# https://data.cityofchicago.org/Public-Safety/Crimes-2001-to-Present/ijzp-q8t2\n",
    "\n",
    "# Census Data for United States\n",
    "# https://data.census.gov/cedsci/profile?q=United%20States&g=0100000US\n",
    "\n",
    "# Bureau of Economic Analysis\n",
    "# https://apps.bea.gov/iTable/index_nipa.cfm\n",
    "\n",
    "# Kaggle data on Census\n",
    "# https://www.kaggle.com/muonneutrino/us-census-demographic-data\n",
    "\n",
    "\n",
    "\n"
   ]
  }
 ],
 "metadata": {
  "kernelspec": {
   "display_name": "PythonData",
   "language": "python",
   "name": "pythondata"
  },
  "language_info": {
   "codemirror_mode": {
    "name": "ipython",
    "version": 3
   },
   "file_extension": ".py",
   "mimetype": "text/x-python",
   "name": "python",
   "nbconvert_exporter": "python",
   "pygments_lexer": "ipython3",
   "version": "3.7.7"
  }
 },
 "nbformat": 4,
 "nbformat_minor": 4
}
